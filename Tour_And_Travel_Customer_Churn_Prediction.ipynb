{
  "nbformat": 4,
  "nbformat_minor": 0,
  "metadata": {
    "colab": {
      "provenance": [],
      "authorship_tag": "ABX9TyOe0poDGTCBd/78d/NuC5ax",
      "include_colab_link": true
    },
    "kernelspec": {
      "name": "python3",
      "display_name": "Python 3"
    },
    "language_info": {
      "name": "python"
    }
  },
  "cells": [
    {
      "cell_type": "markdown",
      "metadata": {
        "id": "view-in-github",
        "colab_type": "text"
      },
      "source": [
        "<a href=\"https://colab.research.google.com/github/amin20033/CognoRise-InfoTech/blob/main/Tour_And_Travel_Customer_Churn_Prediction.ipynb\" target=\"_parent\"><img src=\"https://colab.research.google.com/assets/colab-badge.svg\" alt=\"Open In Colab\"/></a>"
      ]
    },
    {
      "cell_type": "code",
      "execution_count": 1,
      "metadata": {
        "colab": {
          "base_uri": "https://localhost:8080/"
        },
        "id": "LwcexFg3bhOZ",
        "outputId": "5ccfc11e-4058-4ae6-c17b-6051fb28a653"
      },
      "outputs": [
        {
          "output_type": "stream",
          "name": "stdout",
          "text": [
            "   Age FrequentFlyer AnnualIncomeClass  ServicesOpted AccountSyncedToSocialMedia BookedHotelOrNot  Target\n",
            "0   34            No     Middle Income              6                         No              Yes       0\n",
            "1   34           Yes        Low Income              5                        Yes               No       1\n",
            "2   37            No     Middle Income              3                        Yes               No       0\n",
            "3   30            No     Middle Income              2                         No               No       0\n",
            "4   30            No        Low Income              1                         No               No       0\n"
          ]
        }
      ],
      "source": [
        "#importing pandas to read dataset and numpy to replace \"No records\" with blank values\n",
        "import pandas as pd\n",
        "import numpy as np\n",
        "#Reading the dataset\n",
        "df=pd.read_csv(\"/content/sample_data/Customertravel.csv\")\n",
        "#Printing Top 5 values of the dataset\n",
        "print(df.head().to_string())"
      ]
    },
    {
      "cell_type": "code",
      "source": [
        "#To display concise information about dataframe\n",
        "print(df.info())"
      ],
      "metadata": {
        "colab": {
          "base_uri": "https://localhost:8080/"
        },
        "id": "VOt9T5tYb-_1",
        "outputId": "e9945c4d-1ea7-4853-924f-e4fd932ca88c"
      },
      "execution_count": 2,
      "outputs": [
        {
          "output_type": "stream",
          "name": "stdout",
          "text": [
            "<class 'pandas.core.frame.DataFrame'>\n",
            "RangeIndex: 954 entries, 0 to 953\n",
            "Data columns (total 7 columns):\n",
            " #   Column                      Non-Null Count  Dtype \n",
            "---  ------                      --------------  ----- \n",
            " 0   Age                         954 non-null    int64 \n",
            " 1   FrequentFlyer               954 non-null    object\n",
            " 2   AnnualIncomeClass           954 non-null    object\n",
            " 3   ServicesOpted               954 non-null    int64 \n",
            " 4   AccountSyncedToSocialMedia  954 non-null    object\n",
            " 5   BookedHotelOrNot            954 non-null    object\n",
            " 6   Target                      954 non-null    int64 \n",
            "dtypes: int64(3), object(4)\n",
            "memory usage: 52.3+ KB\n",
            "None\n"
          ]
        }
      ]
    },
    {
      "cell_type": "code",
      "source": [
        "#to display how many individual elements of a particular column occurs\n",
        "for x in [\"FrequentFlyer\",\"AnnualIncomeClass\",\"AccountSyncedToSocialMedia\",\"BookedHotelOrNot\"]:\n",
        "  print(df[x].value_counts().to_string())"
      ],
      "metadata": {
        "colab": {
          "base_uri": "https://localhost:8080/"
        },
        "id": "oVXbOVGacc2j",
        "outputId": "c2c167fa-d8e0-444f-e35f-0b24bb45438d"
      },
      "execution_count": 3,
      "outputs": [
        {
          "output_type": "stream",
          "name": "stdout",
          "text": [
            "FrequentFlyer\n",
            "No           608\n",
            "Yes          286\n",
            "No Record     60\n",
            "AnnualIncomeClass\n",
            "Middle Income    409\n",
            "Low Income       386\n",
            "High Income      159\n",
            "AccountSyncedToSocialMedia\n",
            "No     594\n",
            "Yes    360\n",
            "BookedHotelOrNot\n",
            "No     576\n",
            "Yes    378\n"
          ]
        }
      ]
    },
    {
      "cell_type": "code",
      "source": [
        "#Making No Record to blank\n",
        "df.replace({\"FrequentFlyer\":{\"No\":0,\"Yes\":1,\"No Record\":np.nan}},inplace=True)\n",
        "#Droping the missing values\n",
        "df.dropna(inplace=True)\n",
        "print(df[\"FrequentFlyer\"].value_counts().to_string())"
      ],
      "metadata": {
        "colab": {
          "base_uri": "https://localhost:8080/"
        },
        "id": "ZJWs56NOc0Kq",
        "outputId": "6bc3e416-5ed9-4658-eaf3-aa9cb4c903d9"
      },
      "execution_count": 5,
      "outputs": [
        {
          "output_type": "stream",
          "name": "stdout",
          "text": [
            "FrequentFlyer\n",
            "0.0    608\n",
            "1.0    286\n"
          ]
        }
      ]
    },
    {
      "cell_type": "code",
      "source": [
        "#To convert categorical values to numerical values\n",
        "from sklearn.preprocessing import LabelEncoder\n",
        "le=LabelEncoder()\n",
        "# Apply LabelEncoder to each column separately\n",
        "for column in [\"AnnualIncomeClass\", \"AccountSyncedToSocialMedia\", \"BookedHotelOrNot\"]:\n",
        "    df[column] = le.fit_transform(df[column])\n",
        "print(df.head().to_string())"
      ],
      "metadata": {
        "colab": {
          "base_uri": "https://localhost:8080/"
        },
        "id": "cvspXvGKc-jo",
        "outputId": "ec371d09-62b7-4d27-f63f-7eab0b0b2bbd"
      },
      "execution_count": 6,
      "outputs": [
        {
          "output_type": "stream",
          "name": "stdout",
          "text": [
            "   Age  FrequentFlyer  AnnualIncomeClass  ServicesOpted  AccountSyncedToSocialMedia  BookedHotelOrNot  Target\n",
            "0   34            0.0                  2              6                           0                 1       0\n",
            "1   34            1.0                  1              5                           1                 0       1\n",
            "2   37            0.0                  2              3                           1                 0       0\n",
            "3   30            0.0                  2              2                           0                 0       0\n",
            "4   30            0.0                  1              1                           0                 0       0\n"
          ]
        }
      ]
    },
    {
      "cell_type": "code",
      "source": [
        "#x contains independent variables\n",
        "x=df.iloc[:,:-1]\n",
        "#y contains dependent variable\n",
        "y=df.iloc[:,-1]\n",
        "print(\"x:\",x)\n",
        "print(\"y:\",y)"
      ],
      "metadata": {
        "colab": {
          "base_uri": "https://localhost:8080/"
        },
        "id": "kAwT0gufdTQp",
        "outputId": "b5e3300a-9e15-499a-b9c7-b9caf39e327c"
      },
      "execution_count": 9,
      "outputs": [
        {
          "output_type": "stream",
          "name": "stdout",
          "text": [
            "x:      Age  FrequentFlyer  AnnualIncomeClass  ServicesOpted  \\\n",
            "0     34            0.0                  2              6   \n",
            "1     34            1.0                  1              5   \n",
            "2     37            0.0                  2              3   \n",
            "3     30            0.0                  2              2   \n",
            "4     30            0.0                  1              1   \n",
            "..   ...            ...                ...            ...   \n",
            "949   31            1.0                  1              1   \n",
            "950   30            0.0                  2              5   \n",
            "951   37            0.0                  2              4   \n",
            "952   30            0.0                  1              1   \n",
            "953   31            1.0                  0              1   \n",
            "\n",
            "     AccountSyncedToSocialMedia  BookedHotelOrNot  \n",
            "0                             0                 1  \n",
            "1                             1                 0  \n",
            "2                             1                 0  \n",
            "3                             0                 0  \n",
            "4                             0                 0  \n",
            "..                          ...               ...  \n",
            "949                           0                 0  \n",
            "950                           0                 1  \n",
            "951                           0                 0  \n",
            "952                           1                 1  \n",
            "953                           0                 0  \n",
            "\n",
            "[894 rows x 6 columns]\n",
            "y: 0      0\n",
            "1      1\n",
            "2      0\n",
            "3      0\n",
            "4      0\n",
            "      ..\n",
            "949    0\n",
            "950    0\n",
            "951    0\n",
            "952    0\n",
            "953    0\n",
            "Name: Target, Length: 894, dtype: int64\n"
          ]
        }
      ]
    },
    {
      "cell_type": "code",
      "source": [
        "#splitting the data into train and test datasets\n",
        "from sklearn.model_selection import train_test_split\n",
        "x_train,x_test,y_train,y_test=train_test_split(x,y,test_size=0.2)\n",
        "#To scale the values into same units\n",
        "from sklearn.preprocessing import StandardScaler\n",
        "sc=StandardScaler()\n",
        "x_train=sc.fit_transform(x_train)\n",
        "x_test=sc.transform(x_test)\n",
        "#Importing necessary models for classification purpose\n",
        "from sklearn.ensemble import RandomForestClassifier,GradientBoostingClassifier\n",
        "from sklearn.neural_network import MLPClassifier\n",
        "import xgboost as xgb\n",
        "rfc=RandomForestClassifier()\n",
        "mlpc=MLPClassifier()\n",
        "XGB=xgb.XGBClassifier()\n",
        "gbc=GradientBoostingClassifier()\n",
        "models={\"Random Forest\" :rfc,\"Multi Layer Perceptron\":mlpc,\"XGBoost\":XGB,\"Gradient Boosting\":gbc}\n",
        "#For evaluating model performance\n",
        "from sklearn.metrics import classification_report,accuracy_score,confusion_matrix,roc_curve, auc\n",
        "import matplotlib.pyplot as plt\n",
        "for name,model in models.items():\n",
        "  model.fit(x_train,y_train)\n",
        "  y_pred=model.predict(x_test)\n",
        "  print(name,\":\")\n",
        "  print(\"Accuracy Score :\",accuracy_score(y_test,y_pred)*100)\n",
        "  print(\"Classification Report :\",classification_report(y_test,y_pred))\n",
        "  print(\"Confusion Matrix :\",confusion_matrix(y_test,y_pred))"
      ],
      "metadata": {
        "colab": {
          "base_uri": "https://localhost:8080/"
        },
        "id": "VreIZXdCeIDl",
        "outputId": "85e5868b-b61d-4ffb-996d-351607f3b62d"
      },
      "execution_count": 10,
      "outputs": [
        {
          "output_type": "stream",
          "name": "stdout",
          "text": [
            "Random Forest :\n",
            "Accuracy Score : 89.94413407821229\n",
            "Classification Report :               precision    recall  f1-score   support\n",
            "\n",
            "           0       0.92      0.95      0.94       142\n",
            "           1       0.79      0.70      0.74        37\n",
            "\n",
            "    accuracy                           0.90       179\n",
            "   macro avg       0.86      0.83      0.84       179\n",
            "weighted avg       0.90      0.90      0.90       179\n",
            "\n",
            "Confusion Matrix : [[135   7]\n",
            " [ 11  26]]\n"
          ]
        },
        {
          "output_type": "stream",
          "name": "stderr",
          "text": [
            "/usr/local/lib/python3.10/dist-packages/sklearn/neural_network/_multilayer_perceptron.py:691: ConvergenceWarning: Stochastic Optimizer: Maximum iterations (200) reached and the optimization hasn't converged yet.\n",
            "  warnings.warn(\n"
          ]
        },
        {
          "output_type": "stream",
          "name": "stdout",
          "text": [
            "Multi Layer Perceptron :\n",
            "Accuracy Score : 83.24022346368714\n",
            "Classification Report :               precision    recall  f1-score   support\n",
            "\n",
            "           0       0.89      0.90      0.90       142\n",
            "           1       0.60      0.57      0.58        37\n",
            "\n",
            "    accuracy                           0.83       179\n",
            "   macro avg       0.74      0.73      0.74       179\n",
            "weighted avg       0.83      0.83      0.83       179\n",
            "\n",
            "Confusion Matrix : [[128  14]\n",
            " [ 16  21]]\n",
            "XGBoost :\n",
            "Accuracy Score : 88.8268156424581\n",
            "Classification Report :               precision    recall  f1-score   support\n",
            "\n",
            "           0       0.94      0.92      0.93       142\n",
            "           1       0.72      0.76      0.74        37\n",
            "\n",
            "    accuracy                           0.89       179\n",
            "   macro avg       0.83      0.84      0.83       179\n",
            "weighted avg       0.89      0.89      0.89       179\n",
            "\n",
            "Confusion Matrix : [[131  11]\n",
            " [  9  28]]\n",
            "Gradient Boosting :\n",
            "Accuracy Score : 90.5027932960894\n",
            "Classification Report :               precision    recall  f1-score   support\n",
            "\n",
            "           0       0.94      0.94      0.94       142\n",
            "           1       0.78      0.76      0.77        37\n",
            "\n",
            "    accuracy                           0.91       179\n",
            "   macro avg       0.86      0.85      0.85       179\n",
            "weighted avg       0.90      0.91      0.90       179\n",
            "\n",
            "Confusion Matrix : [[134   8]\n",
            " [  9  28]]\n"
          ]
        }
      ]
    },
    {
      "cell_type": "code",
      "source": [
        "#Using Gradient Boosting Model for predicting new datapoint as it is having high accuracy\n",
        "new_df=pd.DataFrame({\"Age\":[50],\"FrequentFlyer\":[1],\"AnnualIncomeClass\":[2],\"ServicesOpted\":[5],\n",
        "                     \"AccountSyncedToSocialMedia\":[1],\"BookedHotelOrNo\":[1]})\n",
        "y_pred1=gbc.predict(new_df)\n",
        "print(\"Prediction for new datapoint :\",y_pred1)"
      ],
      "metadata": {
        "colab": {
          "base_uri": "https://localhost:8080/"
        },
        "id": "2D-ghE9VeOH8",
        "outputId": "6fd4a143-45a7-4bab-fc54-9aa39632ae0c"
      },
      "execution_count": 11,
      "outputs": [
        {
          "output_type": "stream",
          "name": "stdout",
          "text": [
            "Prediction for new datapoint : [1]\n"
          ]
        },
        {
          "output_type": "stream",
          "name": "stderr",
          "text": [
            "/usr/local/lib/python3.10/dist-packages/sklearn/base.py:458: UserWarning: X has feature names, but GradientBoostingClassifier was fitted without feature names\n",
            "  warnings.warn(\n"
          ]
        }
      ]
    }
  ]
}